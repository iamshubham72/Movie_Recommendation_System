{
 "cells": [
  {
   "cell_type": "code",
   "execution_count": 1,
   "id": "725d9632",
   "metadata": {},
   "outputs": [],
   "source": [
    "import pandas as pd"
   ]
  },
  {
   "cell_type": "code",
   "execution_count": 3,
   "id": "9a08773a",
   "metadata": {},
   "outputs": [],
   "source": [
    "data = pd.read_csv(\"netflix_titles.csv\")"
   ]
  },
  {
   "cell_type": "code",
   "execution_count": 4,
   "id": "f52aa8c4",
   "metadata": {},
   "outputs": [
    {
     "data": {
      "text/html": [
       "<div>\n",
       "<style scoped>\n",
       "    .dataframe tbody tr th:only-of-type {\n",
       "        vertical-align: middle;\n",
       "    }\n",
       "\n",
       "    .dataframe tbody tr th {\n",
       "        vertical-align: top;\n",
       "    }\n",
       "\n",
       "    .dataframe thead th {\n",
       "        text-align: right;\n",
       "    }\n",
       "</style>\n",
       "<table border=\"1\" class=\"dataframe\">\n",
       "  <thead>\n",
       "    <tr style=\"text-align: right;\">\n",
       "      <th></th>\n",
       "      <th>show_id</th>\n",
       "      <th>type</th>\n",
       "      <th>title</th>\n",
       "      <th>director</th>\n",
       "      <th>cast</th>\n",
       "      <th>country</th>\n",
       "      <th>date_added</th>\n",
       "      <th>release_year</th>\n",
       "      <th>rating</th>\n",
       "      <th>duration</th>\n",
       "      <th>listed_in</th>\n",
       "      <th>description</th>\n",
       "    </tr>\n",
       "  </thead>\n",
       "  <tbody>\n",
       "    <tr>\n",
       "      <th>0</th>\n",
       "      <td>s1</td>\n",
       "      <td>Movie</td>\n",
       "      <td>Dick Johnson Is Dead</td>\n",
       "      <td>Kirsten Johnson</td>\n",
       "      <td>NaN</td>\n",
       "      <td>United States</td>\n",
       "      <td>September 25, 2021</td>\n",
       "      <td>2020</td>\n",
       "      <td>PG-13</td>\n",
       "      <td>90 min</td>\n",
       "      <td>Documentaries</td>\n",
       "      <td>As her father nears the end of his life, filmm...</td>\n",
       "    </tr>\n",
       "    <tr>\n",
       "      <th>1</th>\n",
       "      <td>s2</td>\n",
       "      <td>TV Show</td>\n",
       "      <td>Blood &amp; Water</td>\n",
       "      <td>NaN</td>\n",
       "      <td>Ama Qamata, Khosi Ngema, Gail Mabalane, Thaban...</td>\n",
       "      <td>South Africa</td>\n",
       "      <td>September 24, 2021</td>\n",
       "      <td>2021</td>\n",
       "      <td>TV-MA</td>\n",
       "      <td>2 Seasons</td>\n",
       "      <td>International TV Shows, TV Dramas, TV Mysteries</td>\n",
       "      <td>After crossing paths at a party, a Cape Town t...</td>\n",
       "    </tr>\n",
       "    <tr>\n",
       "      <th>2</th>\n",
       "      <td>s3</td>\n",
       "      <td>TV Show</td>\n",
       "      <td>Ganglands</td>\n",
       "      <td>Julien Leclercq</td>\n",
       "      <td>Sami Bouajila, Tracy Gotoas, Samuel Jouy, Nabi...</td>\n",
       "      <td>NaN</td>\n",
       "      <td>September 24, 2021</td>\n",
       "      <td>2021</td>\n",
       "      <td>TV-MA</td>\n",
       "      <td>1 Season</td>\n",
       "      <td>Crime TV Shows, International TV Shows, TV Act...</td>\n",
       "      <td>To protect his family from a powerful drug lor...</td>\n",
       "    </tr>\n",
       "    <tr>\n",
       "      <th>3</th>\n",
       "      <td>s4</td>\n",
       "      <td>TV Show</td>\n",
       "      <td>Jailbirds New Orleans</td>\n",
       "      <td>NaN</td>\n",
       "      <td>NaN</td>\n",
       "      <td>NaN</td>\n",
       "      <td>September 24, 2021</td>\n",
       "      <td>2021</td>\n",
       "      <td>TV-MA</td>\n",
       "      <td>1 Season</td>\n",
       "      <td>Docuseries, Reality TV</td>\n",
       "      <td>Feuds, flirtations and toilet talk go down amo...</td>\n",
       "    </tr>\n",
       "    <tr>\n",
       "      <th>4</th>\n",
       "      <td>s5</td>\n",
       "      <td>TV Show</td>\n",
       "      <td>Kota Factory</td>\n",
       "      <td>NaN</td>\n",
       "      <td>Mayur More, Jitendra Kumar, Ranjan Raj, Alam K...</td>\n",
       "      <td>India</td>\n",
       "      <td>September 24, 2021</td>\n",
       "      <td>2021</td>\n",
       "      <td>TV-MA</td>\n",
       "      <td>2 Seasons</td>\n",
       "      <td>International TV Shows, Romantic TV Shows, TV ...</td>\n",
       "      <td>In a city of coaching centers known to train I...</td>\n",
       "    </tr>\n",
       "  </tbody>\n",
       "</table>\n",
       "</div>"
      ],
      "text/plain": [
       "  show_id     type                  title         director  \\\n",
       "0      s1    Movie   Dick Johnson Is Dead  Kirsten Johnson   \n",
       "1      s2  TV Show          Blood & Water              NaN   \n",
       "2      s3  TV Show              Ganglands  Julien Leclercq   \n",
       "3      s4  TV Show  Jailbirds New Orleans              NaN   \n",
       "4      s5  TV Show           Kota Factory              NaN   \n",
       "\n",
       "                                                cast        country  \\\n",
       "0                                                NaN  United States   \n",
       "1  Ama Qamata, Khosi Ngema, Gail Mabalane, Thaban...   South Africa   \n",
       "2  Sami Bouajila, Tracy Gotoas, Samuel Jouy, Nabi...            NaN   \n",
       "3                                                NaN            NaN   \n",
       "4  Mayur More, Jitendra Kumar, Ranjan Raj, Alam K...          India   \n",
       "\n",
       "           date_added  release_year rating   duration  \\\n",
       "0  September 25, 2021          2020  PG-13     90 min   \n",
       "1  September 24, 2021          2021  TV-MA  2 Seasons   \n",
       "2  September 24, 2021          2021  TV-MA   1 Season   \n",
       "3  September 24, 2021          2021  TV-MA   1 Season   \n",
       "4  September 24, 2021          2021  TV-MA  2 Seasons   \n",
       "\n",
       "                                           listed_in  \\\n",
       "0                                      Documentaries   \n",
       "1    International TV Shows, TV Dramas, TV Mysteries   \n",
       "2  Crime TV Shows, International TV Shows, TV Act...   \n",
       "3                             Docuseries, Reality TV   \n",
       "4  International TV Shows, Romantic TV Shows, TV ...   \n",
       "\n",
       "                                         description  \n",
       "0  As her father nears the end of his life, filmm...  \n",
       "1  After crossing paths at a party, a Cape Town t...  \n",
       "2  To protect his family from a powerful drug lor...  \n",
       "3  Feuds, flirtations and toilet talk go down amo...  \n",
       "4  In a city of coaching centers known to train I...  "
      ]
     },
     "execution_count": 4,
     "metadata": {},
     "output_type": "execute_result"
    }
   ],
   "source": [
    "data.head()"
   ]
  },
  {
   "cell_type": "code",
   "execution_count": 7,
   "id": "f84b3905",
   "metadata": {},
   "outputs": [],
   "source": [
    "# creating another USEFUL  columns \n",
    "data['tags'] = data['director'] + ' ' + data['cast'] +' '+ data['listed_in'] +' '+data['description']"
   ]
  },
  {
   "cell_type": "code",
   "execution_count": 8,
   "id": "a6828855",
   "metadata": {},
   "outputs": [],
   "source": [
    "data = data[['show_id','type','title','tags']]"
   ]
  },
  {
   "cell_type": "code",
   "execution_count": 9,
   "id": "15d01c6f",
   "metadata": {},
   "outputs": [
    {
     "data": {
      "text/html": [
       "<div>\n",
       "<style scoped>\n",
       "    .dataframe tbody tr th:only-of-type {\n",
       "        vertical-align: middle;\n",
       "    }\n",
       "\n",
       "    .dataframe tbody tr th {\n",
       "        vertical-align: top;\n",
       "    }\n",
       "\n",
       "    .dataframe thead th {\n",
       "        text-align: right;\n",
       "    }\n",
       "</style>\n",
       "<table border=\"1\" class=\"dataframe\">\n",
       "  <thead>\n",
       "    <tr style=\"text-align: right;\">\n",
       "      <th></th>\n",
       "      <th>show_id</th>\n",
       "      <th>type</th>\n",
       "      <th>title</th>\n",
       "      <th>tags</th>\n",
       "    </tr>\n",
       "  </thead>\n",
       "  <tbody>\n",
       "    <tr>\n",
       "      <th>0</th>\n",
       "      <td>s1</td>\n",
       "      <td>Movie</td>\n",
       "      <td>Dick Johnson Is Dead</td>\n",
       "      <td>NaN</td>\n",
       "    </tr>\n",
       "    <tr>\n",
       "      <th>1</th>\n",
       "      <td>s2</td>\n",
       "      <td>TV Show</td>\n",
       "      <td>Blood &amp; Water</td>\n",
       "      <td>NaN</td>\n",
       "    </tr>\n",
       "    <tr>\n",
       "      <th>2</th>\n",
       "      <td>s3</td>\n",
       "      <td>TV Show</td>\n",
       "      <td>Ganglands</td>\n",
       "      <td>Julien Leclercq Sami Bouajila, Tracy Gotoas, S...</td>\n",
       "    </tr>\n",
       "    <tr>\n",
       "      <th>3</th>\n",
       "      <td>s4</td>\n",
       "      <td>TV Show</td>\n",
       "      <td>Jailbirds New Orleans</td>\n",
       "      <td>NaN</td>\n",
       "    </tr>\n",
       "    <tr>\n",
       "      <th>4</th>\n",
       "      <td>s5</td>\n",
       "      <td>TV Show</td>\n",
       "      <td>Kota Factory</td>\n",
       "      <td>NaN</td>\n",
       "    </tr>\n",
       "    <tr>\n",
       "      <th>...</th>\n",
       "      <td>...</td>\n",
       "      <td>...</td>\n",
       "      <td>...</td>\n",
       "      <td>...</td>\n",
       "    </tr>\n",
       "    <tr>\n",
       "      <th>8802</th>\n",
       "      <td>s8803</td>\n",
       "      <td>Movie</td>\n",
       "      <td>Zodiac</td>\n",
       "      <td>David Fincher Mark Ruffalo, Jake Gyllenhaal, R...</td>\n",
       "    </tr>\n",
       "    <tr>\n",
       "      <th>8803</th>\n",
       "      <td>s8804</td>\n",
       "      <td>TV Show</td>\n",
       "      <td>Zombie Dumb</td>\n",
       "      <td>NaN</td>\n",
       "    </tr>\n",
       "    <tr>\n",
       "      <th>8804</th>\n",
       "      <td>s8805</td>\n",
       "      <td>Movie</td>\n",
       "      <td>Zombieland</td>\n",
       "      <td>Ruben Fleischer Jesse Eisenberg, Woody Harrels...</td>\n",
       "    </tr>\n",
       "    <tr>\n",
       "      <th>8805</th>\n",
       "      <td>s8806</td>\n",
       "      <td>Movie</td>\n",
       "      <td>Zoom</td>\n",
       "      <td>Peter Hewitt Tim Allen, Courteney Cox, Chevy C...</td>\n",
       "    </tr>\n",
       "    <tr>\n",
       "      <th>8806</th>\n",
       "      <td>s8807</td>\n",
       "      <td>Movie</td>\n",
       "      <td>Zubaan</td>\n",
       "      <td>Mozez Singh Vicky Kaushal, Sarah-Jane Dias, Ra...</td>\n",
       "    </tr>\n",
       "  </tbody>\n",
       "</table>\n",
       "<p>8807 rows × 4 columns</p>\n",
       "</div>"
      ],
      "text/plain": [
       "     show_id     type                  title  \\\n",
       "0         s1    Movie   Dick Johnson Is Dead   \n",
       "1         s2  TV Show          Blood & Water   \n",
       "2         s3  TV Show              Ganglands   \n",
       "3         s4  TV Show  Jailbirds New Orleans   \n",
       "4         s5  TV Show           Kota Factory   \n",
       "...      ...      ...                    ...   \n",
       "8802   s8803    Movie                 Zodiac   \n",
       "8803   s8804  TV Show            Zombie Dumb   \n",
       "8804   s8805    Movie             Zombieland   \n",
       "8805   s8806    Movie                   Zoom   \n",
       "8806   s8807    Movie                 Zubaan   \n",
       "\n",
       "                                                   tags  \n",
       "0                                                   NaN  \n",
       "1                                                   NaN  \n",
       "2     Julien Leclercq Sami Bouajila, Tracy Gotoas, S...  \n",
       "3                                                   NaN  \n",
       "4                                                   NaN  \n",
       "...                                                 ...  \n",
       "8802  David Fincher Mark Ruffalo, Jake Gyllenhaal, R...  \n",
       "8803                                                NaN  \n",
       "8804  Ruben Fleischer Jesse Eisenberg, Woody Harrels...  \n",
       "8805  Peter Hewitt Tim Allen, Courteney Cox, Chevy C...  \n",
       "8806  Mozez Singh Vicky Kaushal, Sarah-Jane Dias, Ra...  \n",
       "\n",
       "[8807 rows x 4 columns]"
      ]
     },
     "execution_count": 9,
     "metadata": {},
     "output_type": "execute_result"
    }
   ],
   "source": [
    "data"
   ]
  },
  {
   "cell_type": "code",
   "execution_count": 11,
   "id": "059d5426",
   "metadata": {},
   "outputs": [
    {
     "name": "stderr",
     "output_type": "stream",
     "text": [
      "/var/folders/5z/yyfxq7351wqf4j26kgytyg0r0000gn/T/ipykernel_18188/339833404.py:1: SettingWithCopyWarning: \n",
      "A value is trying to be set on a copy of a slice from a DataFrame\n",
      "\n",
      "See the caveats in the documentation: https://pandas.pydata.org/pandas-docs/stable/user_guide/indexing.html#returning-a-view-versus-a-copy\n",
      "  data.dropna(inplace = True)\n"
     ]
    }
   ],
   "source": [
    "data.dropna(inplace = True)"
   ]
  },
  {
   "cell_type": "code",
   "execution_count": 12,
   "id": "f7177b62",
   "metadata": {},
   "outputs": [
    {
     "data": {
      "text/plain": [
       "(5700, 4)"
      ]
     },
     "execution_count": 12,
     "metadata": {},
     "output_type": "execute_result"
    }
   ],
   "source": [
    "data.shape"
   ]
  },
  {
   "cell_type": "code",
   "execution_count": 13,
   "id": "3d4691f0",
   "metadata": {},
   "outputs": [],
   "source": [
    "data.reset_index(inplace= True, drop = True)"
   ]
  },
  {
   "cell_type": "code",
   "execution_count": 14,
   "id": "c19a2d8a",
   "metadata": {},
   "outputs": [
    {
     "data": {
      "text/plain": [
       "(5700, 4)"
      ]
     },
     "execution_count": 14,
     "metadata": {},
     "output_type": "execute_result"
    }
   ],
   "source": [
    "data.shape"
   ]
  },
  {
   "cell_type": "code",
   "execution_count": 17,
   "id": "308b7f2c",
   "metadata": {},
   "outputs": [],
   "source": [
    "from sklearn.feature_extraction.text import CountVectorizer"
   ]
  },
  {
   "cell_type": "code",
   "execution_count": 18,
   "id": "55e1e02b",
   "metadata": {},
   "outputs": [],
   "source": [
    "# Text --> Numerical"
   ]
  },
  {
   "cell_type": "code",
   "execution_count": 19,
   "id": "c22fec82",
   "metadata": {},
   "outputs": [],
   "source": [
    "cv = CountVectorizer(max_features = 5700, stop_words = 'english')\n",
    "# creats shape of 5700 ROWS. For each row. A vector"
   ]
  },
  {
   "cell_type": "code",
   "execution_count": 23,
   "id": "384785cb",
   "metadata": {},
   "outputs": [],
   "source": [
    "# call algorithm, convert to UTF -8\n",
    "vector = cv.fit_transform(data['tags'].values.astype('U')).toarray()\n",
    "from sklearn.metrics.pairwise import cosine_similarity\n",
    "# cosine will draw dimension in 5700, find difference in rcords and angle theta betweent them and provides similarity."
   ]
  },
  {
   "cell_type": "code",
   "execution_count": 25,
   "id": "dee8ede8",
   "metadata": {},
   "outputs": [],
   "source": [
    "similarity = cosine_similarity(vector)"
   ]
  },
  {
   "cell_type": "code",
   "execution_count": 26,
   "id": "cf1aa66b",
   "metadata": {},
   "outputs": [
    {
     "data": {
      "text/plain": [
       "array([[1.        , 0.21764288, 0.05647825, ..., 0.        , 0.03121953,\n",
       "        0.06024752],\n",
       "       [0.21764288, 1.        , 0.02594996, ..., 0.02923527, 0.05737753,\n",
       "        0.02768183],\n",
       "       [0.05647825, 0.02594996, 1.        , ..., 0.03413944, 0.13400504,\n",
       "        0.09697623],\n",
       "       ...,\n",
       "       [0.        , 0.02923527, 0.03413944, ..., 1.        , 0.1132277 ,\n",
       "        0.03641785],\n",
       "       [0.03121953, 0.05737753, 0.13400504, ..., 0.1132277 , 1.        ,\n",
       "        0.07147417],\n",
       "       [0.06024752, 0.02768183, 0.09697623, ..., 0.03641785, 0.07147417,\n",
       "        1.        ]])"
      ]
     },
     "execution_count": 26,
     "metadata": {},
     "output_type": "execute_result"
    }
   ],
   "source": [
    "similarity"
   ]
  },
  {
   "cell_type": "code",
   "execution_count": 27,
   "id": "2d5117e5",
   "metadata": {},
   "outputs": [
    {
     "data": {
      "text/plain": [
       "5696"
      ]
     },
     "execution_count": 27,
     "metadata": {},
     "output_type": "execute_result"
    }
   ],
   "source": [
    "# similarity for a particular movie. \n",
    "data[data['title'] =='Zodiac'].index[0]"
   ]
  },
  {
   "cell_type": "code",
   "execution_count": 28,
   "id": "c1fa5fe1",
   "metadata": {},
   "outputs": [
    {
     "data": {
      "text/plain": [
       "array([0.02564946, 0.02357023, 0.05504819, ..., 0.06201737, 0.06085806,\n",
       "       0.05872202])"
      ]
     },
     "execution_count": 28,
     "metadata": {},
     "output_type": "execute_result"
    }
   ],
   "source": [
    "similarity[5696]"
   ]
  },
  {
   "cell_type": "code",
   "execution_count": 31,
   "id": "75b6ff13",
   "metadata": {},
   "outputs": [],
   "source": [
    "#convert to list and enumerate, sort in reverse. we need data which is similar to that movie.\n",
    "#values near to 1 for high similarity. Working with index\n",
    "similar_movies =sorted(list(enumerate(similarity[5696])), reverse = True, key = lambda vector:vector[1])"
   ]
  },
  {
   "cell_type": "code",
   "execution_count": 34,
   "id": "0e276ae5",
   "metadata": {},
   "outputs": [
    {
     "name": "stdout",
     "output_type": "stream",
     "text": [
      "Zodiac\n",
      "1.0000000000000004\n",
      "To and From New York\n",
      "0.2637521893583148\n",
      "Gothika\n",
      "0.2637521893583148\n",
      "WHAT DID JACK DO?\n",
      "0.2449489742783178\n",
      "Interrogation\n",
      "0.223606797749979\n",
      "The Highwaymen\n",
      "0.2201927530252721\n"
     ]
    }
   ],
   "source": [
    "for i in similar_movies[0:6]:\n",
    "    print(data.iloc[i[0]].title)\n",
    "    print(i[1])"
   ]
  },
  {
   "cell_type": "code",
   "execution_count": 47,
   "id": "f96f1035",
   "metadata": {},
   "outputs": [],
   "source": [
    "def recommend_movie(movie_name):\n",
    "    movie_index = data[data['title'] == movie_name].index\n",
    "    if len(movie_index) == 0:\n",
    "        print(\"Movie not found in the dataset.\")\n",
    "        return\n",
    "    movie_index = movie_index[0]\n",
    "    similar_movies = sorted(list(enumerate(similarity[movie_index])), reverse=True, key=lambda x: x[1])\n",
    "    for i in similar_movies[1:6]:\n",
    "        print(data.iloc[i[0]]['title'] + 'with similarity of '+ str(round(i[1]*100,2)))\n",
    "        \n"
   ]
  },
  {
   "cell_type": "code",
   "execution_count": 48,
   "id": "014aa86e",
   "metadata": {},
   "outputs": [
    {
     "name": "stdout",
     "output_type": "stream",
     "text": [
      "Bangkok Breakingwith similarity of 51.21\n",
      "Dealerwith similarity of 50.83\n",
      "The Forest of Love: Deep Cutwith similarity of 50.74\n",
      "Sleepless Society: Two Pillows & A Lost Soulwith similarity of 49.67\n",
      "Unlucky Ploywith similarity of 47.36\n"
     ]
    }
   ],
   "source": [
    "recommend_movie('Ganglands')"
   ]
  },
  {
   "cell_type": "markdown",
   "id": "aa7d820d",
   "metadata": {},
   "source": [
    "# Export"
   ]
  },
  {
   "cell_type": "code",
   "execution_count": 51,
   "id": "8a36cbb6",
   "metadata": {},
   "outputs": [],
   "source": [
    "import pickle as pk"
   ]
  },
  {
   "cell_type": "code",
   "execution_count": 52,
   "id": "1fd5df3c",
   "metadata": {},
   "outputs": [],
   "source": [
    "pk.dump(data,open('movie_dataset.pkl','wb'))\n",
    "#pkl is extension of model, wb - with write access"
   ]
  },
  {
   "cell_type": "code",
   "execution_count": 53,
   "id": "4834f4a6",
   "metadata": {},
   "outputs": [],
   "source": [
    "# export similarity matrix\n",
    "pk.dump(similarity, open('similarity.pkl','wb'))"
   ]
  },
  {
   "cell_type": "code",
   "execution_count": null,
   "id": "c28fd4a1",
   "metadata": {},
   "outputs": [],
   "source": [
    "# With help of these 2 pickle files. create web appli"
   ]
  }
 ],
 "metadata": {
  "kernelspec": {
   "display_name": "Python 3 (ipykernel)",
   "language": "python",
   "name": "python3"
  },
  "language_info": {
   "codemirror_mode": {
    "name": "ipython",
    "version": 3
   },
   "file_extension": ".py",
   "mimetype": "text/x-python",
   "name": "python",
   "nbconvert_exporter": "python",
   "pygments_lexer": "ipython3",
   "version": "3.11.5"
  }
 },
 "nbformat": 4,
 "nbformat_minor": 5
}
